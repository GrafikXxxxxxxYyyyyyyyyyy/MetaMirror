{
 "cells": [
  {
   "cell_type": "markdown",
   "metadata": {},
   "source": [
    "### Test TextEncoderModel"
   ]
  },
  {
   "cell_type": "code",
   "execution_count": 1,
   "metadata": {},
   "outputs": [],
   "source": [
    "# import torch\n",
    "# from NewYggDrasill.conditioner.models.text_encoder_model import TextEncoderModel\n",
    "\n",
    "# te_model = TextEncoderModel(\n",
    "#     device = \"mps\",\n",
    "#     model_type = \"sdxl\",\n",
    "#     dtype = torch.float16,\n",
    "#     model_path = \"GrafikXxxxxxxYyyyyyyyyyy/sdxl_Juggernaut\",\n",
    "# )"
   ]
  },
  {
   "cell_type": "code",
   "execution_count": 2,
   "metadata": {},
   "outputs": [],
   "source": [
    "# from NewYggDrasill.conditioner.pipelines.text_encoder_pipeline import TextEncoderPipeline, TextEncoderPipelineInput\n",
    "\n",
    "# te_input = TextEncoderPipelineInput(\n",
    "#     prompt = [\n",
    "#         \"Cat\",\n",
    "#         \"Dog\",\n",
    "#     ],\n",
    "#     num_images_per_prompt = 2,\n",
    "#     clip_skip = 2,\n",
    "#     lora_scale = None,\n",
    "#     prompt_2 = None,\n",
    "#     negative_prompt = [\n",
    "#         \"\",\n",
    "#         \"\",\n",
    "#     ],\n",
    "#     negative_prompt_2 = None,\n",
    "# )\n",
    "\n",
    "# te_pipeline = TextEncoderPipeline()"
   ]
  },
  {
   "cell_type": "code",
   "execution_count": 3,
   "metadata": {},
   "outputs": [],
   "source": [
    "# te_pipeline(\n",
    "#     text_encoder = te_model,\n",
    "#     **te_input,\n",
    "# )"
   ]
  },
  {
   "cell_type": "markdown",
   "metadata": {},
   "source": [
    "### Test Conditioner"
   ]
  },
  {
   "cell_type": "code",
   "execution_count": 4,
   "metadata": {},
   "outputs": [
    {
     "name": "stderr",
     "output_type": "stream",
     "text": [
      "/Users/honeysuckle/dev/Onmoon/MetaMirror/.venv/lib/python3.11/site-packages/tqdm/auto.py:21: TqdmWarning: IProgress not found. Please update jupyter and ipywidgets. See https://ipywidgets.readthedocs.io/en/stable/user_install.html\n",
      "  from .autonotebook import tqdm as notebook_tqdm\n"
     ]
    },
    {
     "name": "stdout",
     "output_type": "stream",
     "text": [
      "CLIPTextEncoderModel model has successfully loaded from 'GrafikXxxxxxxYyyyyyyyyyy/sdxl_Juggernaut' checkpoint!\n",
      "\t<<<ConditionerModel ready!>>>\t\n"
     ]
    }
   ],
   "source": [
    "import torch \n",
    "from NewYggDrasill.conditioner.conditioner_model import ConditionerModel\n",
    "\n",
    "model = ConditionerModel(\n",
    "    device = \"mps\",\n",
    "    model_type = \"sdxl\",\n",
    "    dtype = torch.float16,\n",
    "    model_path = \"GrafikXxxxxxxYyyyyyyyyyy/sdxl_Juggernaut\",\n",
    ")"
   ]
  },
  {
   "cell_type": "code",
   "execution_count": 11,
   "metadata": {},
   "outputs": [],
   "source": [
    "from NewYggDrasill.conditioner.conditioner_pipeline import ConditionerPipeline, ConditionerPipelineInput, TextEncoderPipelineInput\n",
    "\n",
    "cp_input = ConditionerPipelineInput(\n",
    "    te_input = TextEncoderPipelineInput(\n",
    "        prompt = [\n",
    "            \"Cat\",\n",
    "            \"Dog\",\n",
    "        ],\n",
    "        num_images_per_prompt = 2,\n",
    "        clip_skip = 2,\n",
    "        lora_scale = None,\n",
    "        prompt_2 = None,\n",
    "        negative_prompt = [\n",
    "            \"\",\n",
    "            \"\",\n",
    "        ],\n",
    "        negative_prompt_2 = None,\n",
    "    ),\n",
    ")\n",
    "\n",
    "c_pipeline = ConditionerPipeline()"
   ]
  },
  {
   "cell_type": "code",
   "execution_count": 12,
   "metadata": {},
   "outputs": [
    {
     "name": "stdout",
     "output_type": "stream",
     "text": [
      "TextEncoderPipelineInput(num_images_per_prompt=2, clip_skip=2, lora_scale=None, prompt=['Cat', 'Dog'], prompt_2=None, negative_prompt=['', ''], negative_prompt_2=None)\n"
     ]
    }
   ],
   "source": [
    "cp_output = c_pipeline(\n",
    "    input=cp_input,\n",
    "    conditioner=model,\n",
    ")"
   ]
  },
  {
   "cell_type": "code",
   "execution_count": 13,
   "metadata": {},
   "outputs": [
    {
     "data": {
      "text/plain": [
       "(True,\n",
       " 4,\n",
       " torch.Size([8, 77, 768]),\n",
       " torch.Size([8, 77, 1280]),\n",
       " torch.Size([8, 1280]))"
      ]
     },
     "execution_count": 13,
     "metadata": {},
     "output_type": "execute_result"
    }
   ],
   "source": [
    "cp_output.do_cfg, cp_output.batch_size, cp_output.prompt_embeds.shape, cp_output.prompt_embeds_2.shape, cp_output.pooled_prompt_embeds.shape"
   ]
  },
  {
   "cell_type": "markdown",
   "metadata": {},
   "source": [
    "### Test StableDiffusion"
   ]
  },
  {
   "cell_type": "code",
   "execution_count": 14,
   "metadata": {},
   "outputs": [
    {
     "ename": "ImportError",
     "evalue": "cannot import name 'Conditions' from 'NewYggDrasill.core.diffusion_model' (/Users/honeysuckle/dev/Onmoon/MetaMirror/NewYggDrasill/core/diffusion_model.py)",
     "output_type": "error",
     "traceback": [
      "\u001b[0;31m---------------------------------------------------------------------------\u001b[0m",
      "\u001b[0;31mImportError\u001b[0m                               Traceback (most recent call last)",
      "Cell \u001b[0;32mIn[14], line 1\u001b[0m\n\u001b[0;32m----> 1\u001b[0m \u001b[38;5;28;01mfrom\u001b[39;00m \u001b[38;5;21;01mNewYggDrasill\u001b[39;00m\u001b[38;5;21;01m.\u001b[39;00m\u001b[38;5;21;01mstable_diffusion_pipeline\u001b[39;00m \u001b[38;5;28;01mimport\u001b[39;00m StableDiffusionPipeline, StableDiffusionPipelineInput\n\u001b[1;32m      3\u001b[0m sd_input \u001b[38;5;241m=\u001b[39m StableDiffusionPipelineInput(\n\u001b[1;32m      4\u001b[0m     diffusion_input \u001b[38;5;241m=\u001b[39m \u001b[38;5;124m\"\u001b[39m\u001b[38;5;124mpohui\u001b[39m\u001b[38;5;124m\"\u001b[39m,\n\u001b[1;32m      5\u001b[0m     conditioner_input \u001b[38;5;241m=\u001b[39m ConditionerPipelineInput(\n\u001b[0;32m   (...)\u001b[0m\n\u001b[1;32m     21\u001b[0m )\n\u001b[1;32m     22\u001b[0m )\n",
      "File \u001b[0;32m~/dev/Onmoon/MetaMirror/NewYggDrasill/stable_diffusion_pipeline.py:7\u001b[0m\n\u001b[1;32m      4\u001b[0m \u001b[38;5;28;01mfrom\u001b[39;00m \u001b[38;5;21;01mdataclasses\u001b[39;00m \u001b[38;5;28;01mimport\u001b[39;00m dataclass\n\u001b[1;32m      5\u001b[0m \u001b[38;5;28;01mfrom\u001b[39;00m \u001b[38;5;21;01mdiffusers\u001b[39;00m\u001b[38;5;21;01m.\u001b[39;00m\u001b[38;5;21;01mutils\u001b[39;00m \u001b[38;5;28;01mimport\u001b[39;00m BaseOutput\n\u001b[0;32m----> 7\u001b[0m \u001b[38;5;28;01mfrom\u001b[39;00m \u001b[38;5;21;01m.\u001b[39;00m\u001b[38;5;21;01mcore\u001b[39;00m\u001b[38;5;21;01m.\u001b[39;00m\u001b[38;5;21;01mdiffusion_pipeline\u001b[39;00m \u001b[38;5;28;01mimport\u001b[39;00m DiffusionPipeline, DiffusionPipelineInput\n\u001b[1;32m      8\u001b[0m \u001b[38;5;28;01mfrom\u001b[39;00m \u001b[38;5;21;01m.\u001b[39;00m\u001b[38;5;21;01mconditioner\u001b[39;00m\u001b[38;5;21;01m.\u001b[39;00m\u001b[38;5;21;01mconditioner_pipeline\u001b[39;00m \u001b[38;5;28;01mimport\u001b[39;00m ConditionerPipeline, ConditionerPipelineInput\n\u001b[1;32m      9\u001b[0m \u001b[38;5;28;01mfrom\u001b[39;00m \u001b[38;5;21;01m.\u001b[39;00m\u001b[38;5;21;01mstable_diffusion_model\u001b[39;00m \u001b[38;5;28;01mimport\u001b[39;00m StableDiffusionModel, StableDiffusionModelKey, StableDiffusionConditions\n",
      "File \u001b[0;32m~/dev/Onmoon/MetaMirror/NewYggDrasill/core/diffusion_pipeline.py:9\u001b[0m\n\u001b[1;32m      6\u001b[0m \u001b[38;5;28;01mfrom\u001b[39;00m \u001b[38;5;21;01mdiffusers\u001b[39;00m\u001b[38;5;21;01m.\u001b[39;00m\u001b[38;5;21;01mutils\u001b[39;00m \u001b[38;5;28;01mimport\u001b[39;00m BaseOutput\n\u001b[1;32m      7\u001b[0m \u001b[38;5;28;01mfrom\u001b[39;00m \u001b[38;5;21;01mdiffusers\u001b[39;00m\u001b[38;5;21;01m.\u001b[39;00m\u001b[38;5;21;01mimage_processor\u001b[39;00m \u001b[38;5;28;01mimport\u001b[39;00m PipelineImageInput\n\u001b[0;32m----> 9\u001b[0m \u001b[38;5;28;01mfrom\u001b[39;00m \u001b[38;5;21;01m.\u001b[39;00m\u001b[38;5;21;01mdiffusion_model\u001b[39;00m \u001b[38;5;28;01mimport\u001b[39;00m Conditions, DiffusionModel\n\u001b[1;32m     10\u001b[0m \u001b[38;5;28;01mfrom\u001b[39;00m \u001b[38;5;21;01m.\u001b[39;00m\u001b[38;5;21;01mpipelines\u001b[39;00m\u001b[38;5;21;01m.\u001b[39;00m\u001b[38;5;21;01mvae_pipeline\u001b[39;00m \u001b[38;5;28;01mimport\u001b[39;00m VaePipeline\n\u001b[1;32m     11\u001b[0m \u001b[38;5;28;01mfrom\u001b[39;00m \u001b[38;5;21;01m.\u001b[39;00m\u001b[38;5;21;01mpipelines\u001b[39;00m\u001b[38;5;21;01m.\u001b[39;00m\u001b[38;5;21;01mforward_diffusion\u001b[39;00m \u001b[38;5;28;01mimport\u001b[39;00m ForwardDiffusion, ForwardDiffusionInput\n",
      "\u001b[0;31mImportError\u001b[0m: cannot import name 'Conditions' from 'NewYggDrasill.core.diffusion_model' (/Users/honeysuckle/dev/Onmoon/MetaMirror/NewYggDrasill/core/diffusion_model.py)"
     ]
    }
   ],
   "source": [
    "from NewYggDrasill.stable_diffusion_pipeline import StableDiffusionPipeline, StableDiffusionPipelineInput\n",
    "\n",
    "sd_input = StableDiffusionPipelineInput(\n",
    "    diffusion_input = \"pohui\",\n",
    "    conditioner_input = ConditionerPipelineInput(\n",
    "    te_input = TextEncoderPipelineInput(\n",
    "        prompt = [\n",
    "            \"Cat\",\n",
    "            \"Dog\",\n",
    "        ],\n",
    "        num_images_per_prompt = 2,\n",
    "        clip_skip = 2,\n",
    "        lora_scale = None,\n",
    "        prompt_2 = None,\n",
    "        negative_prompt = [\n",
    "            \"\",\n",
    "            \"\",\n",
    "        ],\n",
    "        negative_prompt_2 = None,\n",
    "    ),\n",
    ")\n",
    ")\n"
   ]
  },
  {
   "cell_type": "code",
   "execution_count": null,
   "metadata": {},
   "outputs": [],
   "source": []
  }
 ],
 "metadata": {
  "kernelspec": {
   "display_name": ".venv",
   "language": "python",
   "name": "python3"
  },
  "language_info": {
   "codemirror_mode": {
    "name": "ipython",
    "version": 3
   },
   "file_extension": ".py",
   "mimetype": "text/x-python",
   "name": "python",
   "nbconvert_exporter": "python",
   "pygments_lexer": "ipython3",
   "version": "3.11.2"
  }
 },
 "nbformat": 4,
 "nbformat_minor": 2
}

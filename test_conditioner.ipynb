{
 "cells": [
  {
   "cell_type": "code",
   "execution_count": 1,
   "metadata": {},
   "outputs": [
    {
     "name": "stderr",
     "output_type": "stream",
     "text": [
      "/Users/honeysuckle/dev/Onmoon/MetaMirror/.venv/lib/python3.11/site-packages/tqdm/auto.py:21: TqdmWarning: IProgress not found. Please update jupyter and ipywidgets. See https://ipywidgets.readthedocs.io/en/stable/user_install.html\n",
      "  from .autonotebook import tqdm as notebook_tqdm\n"
     ]
    },
    {
     "name": "stdout",
     "output_type": "stream",
     "text": [
      "CLIPTextEncoderModel model has successfully loaded from 'GrafikXxxxxxxYyyyyyyyyyy/sdxl_Juggernaut' checkpoint!\n",
      "\t<<<ConditionerModel ready!>>>\t\n"
     ]
    }
   ],
   "source": [
    "import torch\n",
    "from NewYggDrasill.conditioner.conditioner_model import ConditionerModel\n",
    "\n",
    "conditioner = ConditionerModel(\n",
    "    device = \"mps\",\n",
    "    model_type = \"sdxl\",\n",
    "    dtype = torch.float16,\n",
    "    model_path = \"GrafikXxxxxxxYyyyyyyyyyy/sdxl_Juggernaut\",\n",
    ")"
   ]
  },
  {
   "cell_type": "code",
   "execution_count": 2,
   "metadata": {},
   "outputs": [],
   "source": [
    "from NewYggDrasill.conditioner.pipelines.text_encoder_pipeline import TextEncoderPipelineInput\n",
    "from NewYggDrasill.conditioner.conditioner_pipeline import ConditionerPipeline, ConditionerPipelineInput\n",
    "\n",
    "INPUT = ConditionerPipelineInput(\n",
    "    te_input = TextEncoderPipelineInput(\n",
    "        prompt = [\n",
    "            \"Cat\",\n",
    "            \"Dog\",\n",
    "        ],\n",
    "        num_images_per_prompt = 1,\n",
    "        clip_skip = 2,\n",
    "        lora_scale = None,\n",
    "        prompt_2 = None,\n",
    "        negative_prompt = [\n",
    "            \"\",\n",
    "            \"\",\n",
    "        ],\n",
    "        negative_prompt_2 = None,\n",
    "    ),\n",
    ")\n",
    "\n",
    "conditioner_pipeline = ConditionerPipeline()"
   ]
  },
  {
   "cell_type": "code",
   "execution_count": 3,
   "metadata": {},
   "outputs": [
    {
     "name": "stdout",
     "output_type": "stream",
     "text": [
      "ConditionerPipelineInput(te_input=TextEncoderPipelineInput(num_images_per_prompt=1, clip_skip=2, lora_scale=None, prompt=['Cat', 'Dog'], prompt_2=None, negative_prompt=['', ''], negative_prompt_2=None))\n"
     ]
    },
    {
     "ename": "TypeError",
     "evalue": "ConditionerPipeline.retrieve_external_conditions() got an unexpected keyword argument 'num_images_per_prompt'",
     "output_type": "error",
     "traceback": [
      "\u001b[0;31m---------------------------------------------------------------------------\u001b[0m",
      "\u001b[0;31mTypeError\u001b[0m                                 Traceback (most recent call last)",
      "Cell \u001b[0;32mIn[3], line 1\u001b[0m\n\u001b[0;32m----> 1\u001b[0m \u001b[43mconditioner_pipeline\u001b[49m\u001b[43m(\u001b[49m\n\u001b[1;32m      2\u001b[0m \u001b[43m    \u001b[49m\u001b[43mINPUT\u001b[49m\u001b[43m,\u001b[49m\n\u001b[1;32m      3\u001b[0m \u001b[43m    \u001b[49m\u001b[43mconditioner\u001b[49m\u001b[38;5;241;43m=\u001b[39;49m\u001b[43mconditioner\u001b[49m\u001b[43m,\u001b[49m\n\u001b[1;32m      4\u001b[0m \u001b[43m)\u001b[49m\n",
      "File \u001b[0;32m~/dev/Onmoon/MetaMirror/NewYggDrasill/conditioner/conditioner_pipeline.py:122\u001b[0m, in \u001b[0;36mConditionerPipeline.__call__\u001b[0;34m(self, input, conditioner, **kwargs)\u001b[0m\n\u001b[1;32m    118\u001b[0m     \u001b[38;5;28mself\u001b[39m\u001b[38;5;241m.\u001b[39mmodel \u001b[38;5;241m=\u001b[39m conditioner\n\u001b[1;32m    120\u001b[0m \u001b[38;5;28mprint\u001b[39m(\u001b[38;5;28minput\u001b[39m)\n\u001b[0;32m--> 122\u001b[0m \u001b[38;5;28;01mreturn\u001b[39;00m \u001b[38;5;28;43mself\u001b[39;49m\u001b[38;5;241;43m.\u001b[39;49m\u001b[43mretrieve_external_conditions\u001b[49m\u001b[43m(\u001b[49m\u001b[38;5;241;43m*\u001b[39;49m\u001b[38;5;241;43m*\u001b[39;49m\u001b[38;5;28;43minput\u001b[39;49m\u001b[43m)\u001b[49m\n",
      "\u001b[0;31mTypeError\u001b[0m: ConditionerPipeline.retrieve_external_conditions() got an unexpected keyword argument 'num_images_per_prompt'"
     ]
    }
   ],
   "source": [
    "conditioner_pipeline(\n",
    "    INPUT,\n",
    "    conditioner=conditioner,\n",
    ")"
   ]
  },
  {
   "cell_type": "code",
   "execution_count": 4,
   "metadata": {},
   "outputs": [
    {
     "data": {
      "text/plain": [
       "{'num_images_per_prompt': 1,\n",
       " 'clip_skip': 2,\n",
       " 'prompt': ['Cat', 'Dog'],\n",
       " 'negative_prompt': ['', '']}"
      ]
     },
     "execution_count": 4,
     "metadata": {},
     "output_type": "execute_result"
    }
   ],
   "source": [
    "{**INPUT}"
   ]
  },
  {
   "cell_type": "code",
   "execution_count": null,
   "metadata": {},
   "outputs": [],
   "source": []
  },
  {
   "cell_type": "code",
   "execution_count": null,
   "metadata": {},
   "outputs": [],
   "source": []
  },
  {
   "cell_type": "code",
   "execution_count": null,
   "metadata": {},
   "outputs": [],
   "source": []
  },
  {
   "cell_type": "code",
   "execution_count": null,
   "metadata": {},
   "outputs": [],
   "source": []
  },
  {
   "cell_type": "code",
   "execution_count": null,
   "metadata": {},
   "outputs": [],
   "source": []
  },
  {
   "cell_type": "code",
   "execution_count": null,
   "metadata": {},
   "outputs": [],
   "source": []
  }
 ],
 "metadata": {
  "kernelspec": {
   "display_name": ".venv",
   "language": "python",
   "name": "python3"
  },
  "language_info": {
   "codemirror_mode": {
    "name": "ipython",
    "version": 3
   },
   "file_extension": ".py",
   "mimetype": "text/x-python",
   "name": "python",
   "nbconvert_exporter": "python",
   "pygments_lexer": "ipython3",
   "version": "3.11.2"
  }
 },
 "nbformat": 4,
 "nbformat_minor": 2
}

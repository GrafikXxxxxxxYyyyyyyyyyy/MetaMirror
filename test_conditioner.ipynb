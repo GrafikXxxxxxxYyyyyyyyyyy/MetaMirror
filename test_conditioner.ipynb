{
 "cells": [
  {
   "cell_type": "code",
   "execution_count": 1,
   "metadata": {},
   "outputs": [
    {
     "name": "stderr",
     "output_type": "stream",
     "text": [
      "/Users/honeysuckle/dev/Onmoon/MetaMirror/.venv/lib/python3.11/site-packages/tqdm/auto.py:21: TqdmWarning: IProgress not found. Please update jupyter and ipywidgets. See https://ipywidgets.readthedocs.io/en/stable/user_install.html\n",
      "  from .autonotebook import tqdm as notebook_tqdm\n"
     ]
    },
    {
     "name": "stdout",
     "output_type": "stream",
     "text": [
      "CLIPTextEncoderModel model has successfully loaded from 'GrafikXxxxxxxYyyyyyyyyyy/sdxl_Juggernaut' checkpoint!\n",
      "\t<<<ConditionerModel ready!>>>\t\n"
     ]
    }
   ],
   "source": [
    "import torch\n",
    "from NewYggDrasill.conditioner.conditioner_model import ConditionerModel\n",
    "\n",
    "conditioner = ConditionerModel(\n",
    "    device = \"mps\",\n",
    "    model_type = \"sdxl\",\n",
    "    dtype = torch.float16,\n",
    "    model_path = \"GrafikXxxxxxxYyyyyyyyyyy/sdxl_Juggernaut\",\n",
    ")"
   ]
  },
  {
   "cell_type": "code",
   "execution_count": 4,
   "metadata": {},
   "outputs": [],
   "source": [
    "from NewYggDrasill.conditioner.pipelines.text_encoder_pipeline import TextEncoderPipelineInput\n",
    "from NewYggDrasill.conditioner.conditioner_pipeline import ConditionerPipeline, ConditionerPipelineInput\n",
    "\n",
    "INPUT = ConditionerPipelineInput(\n",
    "    te_input = TextEncoderPipelineInput(\n",
    "        prompt = [\n",
    "            \"Cat\",\n",
    "            \"Dog\",\n",
    "        ],\n",
    "        num_images_per_prompt = 1,\n",
    "        clip_skip = 2,\n",
    "        lora_scale = None,\n",
    "        prompt_2 = None,\n",
    "        negative_prompt = [\n",
    "            \"\",\n",
    "            \"\",\n",
    "        ],\n",
    "        negative_prompt_2 = None,\n",
    "    ),\n",
    ")\n",
    "\n",
    "conditioner_pipeline = ConditionerPipeline()"
   ]
  },
  {
   "cell_type": "code",
   "execution_count": 5,
   "metadata": {},
   "outputs": [
    {
     "name": "stdout",
     "output_type": "stream",
     "text": [
      "HERE! None\n"
     ]
    },
    {
     "ename": "TypeError",
     "evalue": "NewYggDrasill.conditioner.pipelines.text_encoder_pipeline.TextEncoderPipeline.encode_prompt() argument after ** must be a mapping, not NoneType",
     "output_type": "error",
     "traceback": [
      "\u001b[0;31m---------------------------------------------------------------------------\u001b[0m",
      "\u001b[0;31mTypeError\u001b[0m                                 Traceback (most recent call last)",
      "Cell \u001b[0;32mIn[5], line 1\u001b[0m\n\u001b[0;32m----> 1\u001b[0m \u001b[43mconditioner_pipeline\u001b[49m\u001b[43m(\u001b[49m\n\u001b[1;32m      2\u001b[0m \u001b[43m    \u001b[49m\u001b[43mINPUT\u001b[49m\u001b[43m,\u001b[49m\n\u001b[1;32m      3\u001b[0m \u001b[43m    \u001b[49m\u001b[43mconditioner\u001b[49m\u001b[38;5;241;43m=\u001b[39;49m\u001b[43mconditioner\u001b[49m\u001b[43m,\u001b[49m\n\u001b[1;32m      4\u001b[0m \u001b[43m)\u001b[49m\n",
      "File \u001b[0;32m~/dev/Onmoon/MetaMirror/NewYggDrasill/conditioner/conditioner_pipeline.py:119\u001b[0m, in \u001b[0;36mConditionerPipeline.__call__\u001b[0;34m(self, input, conditioner, **kwargs)\u001b[0m\n\u001b[1;32m    113\u001b[0m \u001b[38;5;28;01mif\u001b[39;00m (\n\u001b[1;32m    114\u001b[0m     conditioner \u001b[38;5;129;01mis\u001b[39;00m \u001b[38;5;129;01mnot\u001b[39;00m \u001b[38;5;28;01mNone\u001b[39;00m \n\u001b[1;32m    115\u001b[0m     \u001b[38;5;129;01mand\u001b[39;00m \u001b[38;5;28misinstance\u001b[39m(conditioner, ConditionerModel)\n\u001b[1;32m    116\u001b[0m ):\n\u001b[1;32m    117\u001b[0m     \u001b[38;5;28mself\u001b[39m\u001b[38;5;241m.\u001b[39mmodel \u001b[38;5;241m=\u001b[39m conditioner\n\u001b[0;32m--> 119\u001b[0m \u001b[38;5;28;01mreturn\u001b[39;00m \u001b[38;5;28;43mself\u001b[39;49m\u001b[38;5;241;43m.\u001b[39;49m\u001b[43mretrieve_external_conditions\u001b[49m\u001b[43m(\u001b[49m\u001b[38;5;241;43m*\u001b[39;49m\u001b[38;5;241;43m*\u001b[39;49m\u001b[38;5;28;43minput\u001b[39;49m\u001b[43m)\u001b[49m\n",
      "File \u001b[0;32m~/dev/Onmoon/MetaMirror/NewYggDrasill/conditioner/conditioner_pipeline.py:74\u001b[0m, in \u001b[0;36mConditionerPipeline.retrieve_external_conditions\u001b[0;34m(self, te_input, **kwargs)\u001b[0m\n\u001b[1;32m     72\u001b[0m te_output: Optional[TextEncoderPipelineOutput] \u001b[38;5;241m=\u001b[39m \u001b[38;5;28;01mNone\u001b[39;00m\n\u001b[1;32m     73\u001b[0m \u001b[38;5;28;01mif\u001b[39;00m \u001b[38;5;124m\"\u001b[39m\u001b[38;5;124m1. Вызывам собственный энкодер\u001b[39m\u001b[38;5;124m\"\u001b[39m:\n\u001b[0;32m---> 74\u001b[0m     te_output \u001b[38;5;241m=\u001b[39m \u001b[38;5;28mself\u001b[39m\u001b[38;5;241m.\u001b[39mencode_prompt(\u001b[38;5;241m*\u001b[39m\u001b[38;5;241m*\u001b[39mte_input)\n\u001b[1;32m     76\u001b[0m     do_cfg \u001b[38;5;241m=\u001b[39m te_output\u001b[38;5;241m.\u001b[39mdo_cfg\n\u001b[1;32m     77\u001b[0m     batch_size \u001b[38;5;241m=\u001b[39m te_output\u001b[38;5;241m.\u001b[39mbatch_size\n",
      "\u001b[0;31mTypeError\u001b[0m: NewYggDrasill.conditioner.pipelines.text_encoder_pipeline.TextEncoderPipeline.encode_prompt() argument after ** must be a mapping, not NoneType"
     ]
    }
   ],
   "source": [
    "conditioner_pipeline(\n",
    "    INPUT,\n",
    "    conditioner=conditioner,\n",
    ")"
   ]
  },
  {
   "cell_type": "code",
   "execution_count": null,
   "metadata": {},
   "outputs": [],
   "source": []
  },
  {
   "cell_type": "code",
   "execution_count": null,
   "metadata": {},
   "outputs": [],
   "source": []
  },
  {
   "cell_type": "code",
   "execution_count": null,
   "metadata": {},
   "outputs": [],
   "source": []
  },
  {
   "cell_type": "code",
   "execution_count": null,
   "metadata": {},
   "outputs": [],
   "source": []
  },
  {
   "cell_type": "code",
   "execution_count": null,
   "metadata": {},
   "outputs": [],
   "source": []
  },
  {
   "cell_type": "code",
   "execution_count": null,
   "metadata": {},
   "outputs": [],
   "source": []
  },
  {
   "cell_type": "code",
   "execution_count": null,
   "metadata": {},
   "outputs": [],
   "source": []
  }
 ],
 "metadata": {
  "kernelspec": {
   "display_name": ".venv",
   "language": "python",
   "name": "python3"
  },
  "language_info": {
   "codemirror_mode": {
    "name": "ipython",
    "version": 3
   },
   "file_extension": ".py",
   "mimetype": "text/x-python",
   "name": "python",
   "nbconvert_exporter": "python",
   "pygments_lexer": "ipython3",
   "version": "3.11.2"
  }
 },
 "nbformat": 4,
 "nbformat_minor": 2
}

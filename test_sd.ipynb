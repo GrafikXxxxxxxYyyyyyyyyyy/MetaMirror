{
 "cells": [
  {
   "cell_type": "code",
   "execution_count": 1,
   "metadata": {},
   "outputs": [
    {
     "name": "stderr",
     "output_type": "stream",
     "text": [
      "/Users/honeysuckle/dev/Onmoon/MetaMirror/.venv/lib/python3.11/site-packages/tqdm/auto.py:21: TqdmWarning: IProgress not found. Please update jupyter and ipywidgets. See https://ipywidgets.readthedocs.io/en/stable/user_install.html\n",
      "  from .autonotebook import tqdm as notebook_tqdm\n"
     ]
    },
    {
     "name": "stdout",
     "output_type": "stream",
     "text": [
      "Scheduler has successfully changed to 'euler'\n",
      "NoisePredictor model has successfully loaded from 'GrafikXxxxxxxYyyyyyyyyyy/sdxl_Juggernaut' checkpoint!\n",
      "\t<<<BackwardDiffuser ready!>>>\t\n",
      "VAE model has successfully loaded from 'GrafikXxxxxxxYyyyyyyyyyy/sdxl_Juggernaut' checkpoint!\n",
      "\t<<<DiffusionModel ready!>>>\t\n",
      "CLIPTextEncoderModel model has successfully loaded from 'GrafikXxxxxxxYyyyyyyyyyy/sdxl_Juggernaut' checkpoint!\n",
      "\t<<<StableDiffusionModel ready!>>>\t\n"
     ]
    }
   ],
   "source": [
    "import torch\n",
    "from NewYggDrasill.stable_diffusion_model import StableDiffusionModel, StableDiffusionModelKey\n",
    "\n",
    "KEY = StableDiffusionModelKey(\n",
    "    use_text_encoder=True,\n",
    "    device = \"mps\",\n",
    "    model_type = \"sdxl\",\n",
    "    dtype = torch.float16,\n",
    "    model_path = \"GrafikXxxxxxxYyyyyyyyyyy/sdxl_Juggernaut\",\n",
    ")\n",
    "\n",
    "# sd_model = StableDiffusionModel(**KEY)"
   ]
  },
  {
   "cell_type": "code",
   "execution_count": 3,
   "metadata": {},
   "outputs": [
    {
     "ename": "NameError",
     "evalue": "name 'Conditions' is not defined",
     "output_type": "error",
     "traceback": [
      "\u001b[0;31m---------------------------------------------------------------------------\u001b[0m",
      "\u001b[0;31mNameError\u001b[0m                                 Traceback (most recent call last)",
      "Cell \u001b[0;32mIn[3], line 3\u001b[0m\n\u001b[1;32m      1\u001b[0m \u001b[38;5;28;01mfrom\u001b[39;00m \u001b[38;5;21;01mNewYggDrasill\u001b[39;00m\u001b[38;5;21;01m.\u001b[39;00m\u001b[38;5;21;01mcore\u001b[39;00m\u001b[38;5;21;01m.\u001b[39;00m\u001b[38;5;21;01mpipelines\u001b[39;00m\u001b[38;5;21;01m.\u001b[39;00m\u001b[38;5;21;01mforward_diffusion\u001b[39;00m \u001b[38;5;28;01mimport\u001b[39;00m ForwardDiffusionInput\n\u001b[1;32m      2\u001b[0m \u001b[38;5;28;01mfrom\u001b[39;00m \u001b[38;5;21;01mNewYggDrasill\u001b[39;00m\u001b[38;5;21;01m.\u001b[39;00m\u001b[38;5;21;01mpipelines\u001b[39;00m\u001b[38;5;21;01m.\u001b[39;00m\u001b[38;5;21;01mtext_encoder_pipeline\u001b[39;00m \u001b[38;5;28;01mimport\u001b[39;00m TextEncoderPipelineInput\n\u001b[0;32m----> 3\u001b[0m \u001b[38;5;28;01mfrom\u001b[39;00m \u001b[38;5;21;01mNewYggDrasill\u001b[39;00m\u001b[38;5;21;01m.\u001b[39;00m\u001b[38;5;21;01mstable_diffusion_pipeline\u001b[39;00m \u001b[38;5;28;01mimport\u001b[39;00m StableDiffusionPipeline, StableDiffusionPipelineInput, DiffusionPipelineInput\n\u001b[1;32m      5\u001b[0m INPUT \u001b[38;5;241m=\u001b[39m StableDiffusionPipelineInput(\n\u001b[1;32m      6\u001b[0m     diffusion_input \u001b[38;5;241m=\u001b[39m DiffusionPipelineInput(\n\u001b[1;32m      7\u001b[0m         forward_input \u001b[38;5;241m=\u001b[39m ForwardDiffusionInput(\n\u001b[0;32m   (...)\u001b[0m\n\u001b[1;32m     29\u001b[0m     ),\n\u001b[1;32m     30\u001b[0m )\n\u001b[1;32m     32\u001b[0m sd_pipeline \u001b[38;5;241m=\u001b[39m StableDiffusionPipeline()\n",
      "File \u001b[0;32m~/dev/Onmoon/MetaMirror/NewYggDrasill/stable_diffusion_pipeline.py:8\u001b[0m\n\u001b[1;32m      5\u001b[0m \u001b[38;5;28;01mfrom\u001b[39;00m \u001b[38;5;21;01mdiffusers\u001b[39;00m\u001b[38;5;21;01m.\u001b[39;00m\u001b[38;5;21;01mutils\u001b[39;00m \u001b[38;5;28;01mimport\u001b[39;00m BaseOutput\n\u001b[1;32m      6\u001b[0m \u001b[38;5;28;01mfrom\u001b[39;00m \u001b[38;5;21;01mdiffusers\u001b[39;00m\u001b[38;5;21;01m.\u001b[39;00m\u001b[38;5;21;01mimage_processor\u001b[39;00m \u001b[38;5;28;01mimport\u001b[39;00m PipelineImageInput\n\u001b[0;32m----> 8\u001b[0m \u001b[38;5;28;01mfrom\u001b[39;00m \u001b[38;5;21;01m.\u001b[39;00m\u001b[38;5;21;01mcore\u001b[39;00m\u001b[38;5;21;01m.\u001b[39;00m\u001b[38;5;21;01mdiffusion_pipeline\u001b[39;00m \u001b[38;5;28;01mimport\u001b[39;00m DiffusionPipeline, DiffusionPipelineInput\n\u001b[1;32m      9\u001b[0m \u001b[38;5;28;01mfrom\u001b[39;00m \u001b[38;5;21;01m.\u001b[39;00m\u001b[38;5;21;01mstable_diffusion_model\u001b[39;00m \u001b[38;5;28;01mimport\u001b[39;00m StableDiffusionModel, StableDiffusionModelKey\n\u001b[1;32m     10\u001b[0m \u001b[38;5;28;01mfrom\u001b[39;00m \u001b[38;5;21;01m.\u001b[39;00m\u001b[38;5;21;01mpipelines\u001b[39;00m\u001b[38;5;21;01m.\u001b[39;00m\u001b[38;5;21;01mtext_encoder_pipeline\u001b[39;00m \u001b[38;5;28;01mimport\u001b[39;00m TextEncoderPipeline, TextEncoderPipelineInput\n",
      "File \u001b[0;32m~/dev/Onmoon/MetaMirror/NewYggDrasill/core/diffusion_pipeline.py:16\u001b[0m\n\u001b[1;32m     10\u001b[0m \u001b[38;5;28;01mfrom\u001b[39;00m \u001b[38;5;21;01m.\u001b[39;00m\u001b[38;5;21;01mpipelines\u001b[39;00m\u001b[38;5;21;01m.\u001b[39;00m\u001b[38;5;21;01mvae_pipeline\u001b[39;00m \u001b[38;5;28;01mimport\u001b[39;00m VaePipeline\n\u001b[1;32m     11\u001b[0m \u001b[38;5;28;01mfrom\u001b[39;00m \u001b[38;5;21;01m.\u001b[39;00m\u001b[38;5;21;01mpipelines\u001b[39;00m\u001b[38;5;21;01m.\u001b[39;00m\u001b[38;5;21;01mforward_diffusion\u001b[39;00m \u001b[38;5;28;01mimport\u001b[39;00m ForwardDiffusion, ForwardDiffusionInput\n\u001b[1;32m     15\u001b[0m \u001b[38;5;129;43m@dataclass\u001b[39;49m\n\u001b[0;32m---> 16\u001b[0m \u001b[38;5;28;43;01mclass\u001b[39;49;00m\u001b[43m \u001b[49m\u001b[38;5;21;43;01mDiffusionPipelineInput\u001b[39;49;00m\u001b[43m(\u001b[49m\u001b[43mBaseOutput\u001b[49m\u001b[43m)\u001b[49m\u001b[43m:\u001b[49m\n\u001b[1;32m     17\u001b[0m \u001b[43m    \u001b[49m\u001b[43mwidth\u001b[49m\u001b[43m:\u001b[49m\u001b[43m \u001b[49m\u001b[38;5;28;43mint\u001b[39;49m\u001b[43m \u001b[49m\u001b[38;5;241;43m=\u001b[39;49m\u001b[43m \u001b[49m\u001b[38;5;241;43m512\u001b[39;49m\n\u001b[1;32m     18\u001b[0m \u001b[43m    \u001b[49m\u001b[43mheight\u001b[49m\u001b[43m:\u001b[49m\u001b[43m \u001b[49m\u001b[38;5;28;43mint\u001b[39;49m\u001b[43m \u001b[49m\u001b[38;5;241;43m=\u001b[39;49m\u001b[43m \u001b[49m\u001b[38;5;241;43m512\u001b[39;49m\n",
      "File \u001b[0;32m~/dev/Onmoon/MetaMirror/NewYggDrasill/core/diffusion_pipeline.py:22\u001b[0m, in \u001b[0;36mDiffusionPipelineInput\u001b[0;34m()\u001b[0m\n\u001b[1;32m     20\u001b[0m do_cfg: \u001b[38;5;28mbool\u001b[39m \u001b[38;5;241m=\u001b[39m \u001b[38;5;28;01mFalse\u001b[39;00m\n\u001b[1;32m     21\u001b[0m guidance_scale: \u001b[38;5;28mfloat\u001b[39m \u001b[38;5;241m=\u001b[39m \u001b[38;5;241m5.0\u001b[39m\n\u001b[0;32m---> 22\u001b[0m conditions: Optional[\u001b[43mConditions\u001b[49m] \u001b[38;5;241m=\u001b[39m \u001b[38;5;28;01mNone\u001b[39;00m\n\u001b[1;32m     23\u001b[0m image: Optional[torch\u001b[38;5;241m.\u001b[39mFloatTensor] \u001b[38;5;241m=\u001b[39m \u001b[38;5;28;01mNone\u001b[39;00m\n\u001b[1;32m     24\u001b[0m generator: Optional[torch\u001b[38;5;241m.\u001b[39mGenerator] \u001b[38;5;241m=\u001b[39m \u001b[38;5;28;01mNone\u001b[39;00m\n",
      "\u001b[0;31mNameError\u001b[0m: name 'Conditions' is not defined"
     ]
    }
   ],
   "source": [
    "from NewYggDrasill.core.pipelines.forward_diffusion import ForwardDiffusionInput\n",
    "from NewYggDrasill.pipelines.text_encoder_pipeline import TextEncoderPipelineInput\n",
    "from NewYggDrasill.stable_diffusion_pipeline import StableDiffusionPipeline, StableDiffusionPipelineInput, DiffusionPipelineInput\n",
    "\n",
    "# INPUT = StableDiffusionPipelineInput(\n",
    "#     diffusion_input = DiffusionPipelineInput(\n",
    "#         forward_input = ForwardDiffusionInput(\n",
    "#             strength = 1.0,\n",
    "#             num_inference_steps = 30,\n",
    "#         )\n",
    "#     ),\n",
    "#     # use_refiner = False,\n",
    "#     # guidance_scale = 5.0,\n",
    "#     te_input = TextEncoderPipelineInput(\n",
    "#         prompt=[\n",
    "#             \"cat\",\n",
    "#             \"dog\",\n",
    "#         ],\n",
    "#         # prompt_2=[\n",
    "#         #     \"cat\",\n",
    "#         #     \"dog\",\n",
    "#         # ],\n",
    "#         negative_prompt=[\n",
    "#             \"\",\n",
    "#             \"\",\n",
    "#         ],\n",
    "#         clip_skip=2,\n",
    "#         num_images_per_prompt=1,\n",
    "#     ),\n",
    "# )\n",
    "\n",
    "# sd_pipeline = StableDiffusionPipeline()"
   ]
  },
  {
   "cell_type": "code",
   "execution_count": 11,
   "metadata": {},
   "outputs": [],
   "source": [
    "sd_pipeline(\n",
    "    model=sd_model,\n",
    "    **INPUT,\n",
    ")"
   ]
  },
  {
   "cell_type": "markdown",
   "metadata": {},
   "source": [
    "### Test Conditioner"
   ]
  },
  {
   "cell_type": "code",
   "execution_count": 3,
   "metadata": {},
   "outputs": [],
   "source": [
    "# import torch\n",
    "# from YggDrasill.stable_diffusion_model import StableDiffusionModelKey\n",
    "# from YggDrasill.models.text_encoder_model import TextEncoderModel\n",
    "\n",
    "# KEY = StableDiffusionModelKey(\n",
    "#     device = \"cuda\",\n",
    "#     model_type = \"sdxl\",\n",
    "#     dtype = torch.float16,\n",
    "#     model_path = \"GrafikXxxxxxxYyyyyyyyyyy/sdxl_Juggernaut\",\n",
    "# )\n",
    "\n",
    "# text_encoder = TextEncoderModel(**KEY)"
   ]
  },
  {
   "cell_type": "code",
   "execution_count": 4,
   "metadata": {},
   "outputs": [],
   "source": [
    "# from YggDrasill.pipelines.text_encoder_pipeline import TextEncoderPipeline, TextEncoderPipelineInput\n",
    "\n",
    "# INPUT = TextEncoderPipelineInput(\n",
    "#     prompt=[\n",
    "#         \"cat\",\n",
    "#         \"dog\",\n",
    "#     ],\n",
    "#     negative_prompt=[\n",
    "#         \"\",\n",
    "#         \"\",\n",
    "#     ],\n",
    "#     clip_skip=2,\n",
    "#     num_images_per_prompt=3,\n",
    "# )\n",
    "\n",
    "# te_pipeline = TextEncoderPipeline()"
   ]
  },
  {
   "cell_type": "code",
   "execution_count": 5,
   "metadata": {},
   "outputs": [],
   "source": [
    "# result = te_pipeline(\n",
    "#     text_encoder=text_encoder,\n",
    "#     **INPUT,\n",
    "# )\n",
    "\n",
    "# result.clip_embeds_1.shape, result.clip_embeds_2.shape, result.pooled_clip_embeds.shape, "
   ]
  },
  {
   "cell_type": "code",
   "execution_count": null,
   "metadata": {},
   "outputs": [],
   "source": []
  },
  {
   "cell_type": "code",
   "execution_count": null,
   "metadata": {},
   "outputs": [],
   "source": []
  },
  {
   "cell_type": "code",
   "execution_count": null,
   "metadata": {},
   "outputs": [],
   "source": []
  },
  {
   "cell_type": "code",
   "execution_count": null,
   "metadata": {},
   "outputs": [],
   "source": []
  },
  {
   "cell_type": "code",
   "execution_count": null,
   "metadata": {},
   "outputs": [],
   "source": []
  }
 ],
 "metadata": {
  "kernelspec": {
   "display_name": ".venv",
   "language": "python",
   "name": "python3"
  },
  "language_info": {
   "codemirror_mode": {
    "name": "ipython",
    "version": 3
   },
   "file_extension": ".py",
   "mimetype": "text/x-python",
   "name": "python",
   "nbconvert_exporter": "python",
   "pygments_lexer": "ipython3",
   "version": "3.11.2"
  }
 },
 "nbformat": 4,
 "nbformat_minor": 2
}

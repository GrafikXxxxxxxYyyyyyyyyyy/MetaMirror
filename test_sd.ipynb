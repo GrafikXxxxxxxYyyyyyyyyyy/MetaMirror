{
 "cells": [
  {
   "cell_type": "markdown",
   "metadata": {},
   "source": [
    "### Test StableDiffusion"
   ]
  },
  {
   "cell_type": "markdown",
   "metadata": {},
   "source": [
    "Создадим специальный класс ModelKey для хранения параметров инициализации любой модели"
   ]
  },
  {
   "cell_type": "code",
   "execution_count": 1,
   "metadata": {},
   "outputs": [],
   "source": [
    "import torch\n",
    "\n",
    "from dataclasses import dataclass\n",
    "from typing import Optional, Union\n",
    "from diffusers.utils import BaseOutput\n",
    "\n",
    "@dataclass\n",
    "class ModelKey(BaseOutput):\n",
    "    author: str = \"GrafikXxxxxxxYyyyyyyyyyy\"\n",
    "    model_path: str = \"GrafikXxxxxxxYyyyyyyyyyy/sdxl_Juggernaut\"\n",
    "    model_type: str = \"sdxl\"\n",
    "    device: str = \"cuda\"\n",
    "    dtype: torch.dtype = torch.float16\n",
    "    scheduler_name: Optional[str] = \"euler_a\""
   ]
  },
  {
   "cell_type": "code",
   "execution_count": 2,
   "metadata": {},
   "outputs": [
    {
     "ename": "NameError",
     "evalue": "name 'StableDiffusionModelConditions' is not defined",
     "output_type": "error",
     "traceback": [
      "\u001b[0;31m---------------------------------------------------------------------------\u001b[0m",
      "\u001b[0;31mNameError\u001b[0m                                 Traceback (most recent call last)",
      "Cell \u001b[0;32mIn[2], line 1\u001b[0m\n\u001b[0;32m----> 1\u001b[0m \u001b[38;5;28;01mfrom\u001b[39;00m \u001b[38;5;21;01mYggDrasill\u001b[39;00m\u001b[38;5;21;01m.\u001b[39;00m\u001b[38;5;21;01mstable_diffusion_model\u001b[39;00m \u001b[38;5;28;01mimport\u001b[39;00m StableDiffusionModel\n\u001b[1;32m      3\u001b[0m sd \u001b[38;5;241m=\u001b[39m StableDiffusionModel(\u001b[38;5;241m*\u001b[39m\u001b[38;5;241m*\u001b[39mModelKey())\n",
      "File \u001b[0;32m~/dev/MetaMirror/YggDrasill/stable_diffusion_model.py:34\u001b[0m\n\u001b[1;32m     17\u001b[0m     scheduler_name: Optional[\u001b[38;5;28mstr\u001b[39m] \u001b[38;5;241m=\u001b[39m \u001b[38;5;124m\"\u001b[39m\u001b[38;5;124meuler_a\u001b[39m\u001b[38;5;124m\"\u001b[39m\n\u001b[1;32m     21\u001b[0m \u001b[38;5;66;03m# @dataclass\u001b[39;00m\n\u001b[1;32m     22\u001b[0m \u001b[38;5;66;03m# class StableDiffusionModelConditions(DiffusionModelConditions):\u001b[39;00m\n\u001b[1;32m     23\u001b[0m \u001b[38;5;66;03m#     timestep_cond: Optional[torch.Tensor] = None\u001b[39;00m\n\u001b[0;32m   (...)\u001b[0m\n\u001b[1;32m     29\u001b[0m         \u001b[38;5;66;03m# mid_block_additional_residual: Optional[torch.Tensor] = None\u001b[39;00m\n\u001b[1;32m     30\u001b[0m         \u001b[38;5;66;03m# down_block_additional_residuals: Optional[Tuple[torch.Tensor]] = None\u001b[39;00m\n\u001b[0;32m---> 34\u001b[0m \u001b[38;5;28;01mclass\u001b[39;00m \u001b[38;5;21;01mStableDiffusionModel\u001b[39;00m:\n\u001b[1;32m     35\u001b[0m     diffuser: DiffusionModel\n\u001b[1;32m     36\u001b[0m     text_encoder: Optional[TextEncoderModel] \u001b[38;5;241m=\u001b[39m \u001b[38;5;28;01mNone\u001b[39;00m\n",
      "File \u001b[0;32m~/dev/MetaMirror/YggDrasill/stable_diffusion_model.py:133\u001b[0m, in \u001b[0;36mStableDiffusionModel\u001b[0;34m()\u001b[0m\n\u001b[1;32m    118\u001b[0m     \u001b[38;5;28;01mreturn\u001b[39;00m add_time_ids, add_neg_time_ids\n\u001b[1;32m    122\u001b[0m \u001b[38;5;66;03m# ================================================================================================================ #\u001b[39;00m\n\u001b[1;32m    123\u001b[0m \u001b[38;5;28;01mdef\u001b[39;00m \u001b[38;5;21m__call__\u001b[39m(\n\u001b[1;32m    124\u001b[0m     \u001b[38;5;28mself\u001b[39m,\n\u001b[1;32m    125\u001b[0m     use_refiner: \u001b[38;5;28mbool\u001b[39m \u001b[38;5;241m=\u001b[39m \u001b[38;5;28;01mFalse\u001b[39;00m,\n\u001b[1;32m    126\u001b[0m     guidance_scale: \u001b[38;5;28mfloat\u001b[39m \u001b[38;5;241m=\u001b[39m \u001b[38;5;241m5.0\u001b[39m,\n\u001b[1;32m    127\u001b[0m     num_images_per_prompt: \u001b[38;5;28mint\u001b[39m \u001b[38;5;241m=\u001b[39m \u001b[38;5;241m1\u001b[39m,\n\u001b[1;32m    128\u001b[0m     aesthetic_score: \u001b[38;5;28mfloat\u001b[39m \u001b[38;5;241m=\u001b[39m \u001b[38;5;241m6.0\u001b[39m,\n\u001b[1;32m    129\u001b[0m     negative_aesthetic_score: \u001b[38;5;28mfloat\u001b[39m \u001b[38;5;241m=\u001b[39m \u001b[38;5;241m2.5\u001b[39m,\n\u001b[1;32m    130\u001b[0m     te_output: Optional[TextEncoderPipelineOutput] \u001b[38;5;241m=\u001b[39m \u001b[38;5;28;01mNone\u001b[39;00m,\n\u001b[1;32m    131\u001b[0m     \u001b[38;5;66;03m# ie_output: Optional[ImageEncoderPipelineOutput] = None,\u001b[39;00m\n\u001b[1;32m    132\u001b[0m     \u001b[38;5;241m*\u001b[39m\u001b[38;5;241m*\u001b[39mkwargs,\n\u001b[0;32m--> 133\u001b[0m ) \u001b[38;5;241m-\u001b[39m\u001b[38;5;241m>\u001b[39m \u001b[43mStableDiffusionModelConditions\u001b[49m:\n\u001b[1;32m    134\u001b[0m \u001b[38;5;66;03m# ================================================================================================================ #\u001b[39;00m\n\u001b[1;32m    135\u001b[0m \u001b[38;5;250m    \u001b[39m\u001b[38;5;124;03m\"\"\"\u001b[39;00m\n\u001b[1;32m    136\u001b[0m \u001b[38;5;124;03m    Подготавливает нужную последовательность входных аргументов\u001b[39;00m\n\u001b[1;32m    137\u001b[0m \u001b[38;5;124;03m    и обуславливающих значений, соответсвующих заданной модели диффузии\u001b[39;00m\n\u001b[1;32m    138\u001b[0m \u001b[38;5;124;03m    Также перенастраивает саму модельку\u001b[39;00m\n\u001b[1;32m    139\u001b[0m \u001b[38;5;124;03m    \"\"\"\u001b[39;00m\n\u001b[1;32m    140\u001b[0m     \u001b[38;5;28mprint\u001b[39m(\u001b[38;5;124m\"\u001b[39m\u001b[38;5;124mStableDiffusionModel --->\u001b[39m\u001b[38;5;124m\"\u001b[39m)\n",
      "\u001b[0;31mNameError\u001b[0m: name 'StableDiffusionModelConditions' is not defined"
     ]
    }
   ],
   "source": [
    "from YggDrasill.stable_diffusion_model import StableDiffusionModel\n",
    "\n",
    "sd = StableDiffusionModel(**ModelKey())"
   ]
  },
  {
   "cell_type": "code",
   "execution_count": 3,
   "metadata": {},
   "outputs": [],
   "source": [
    "from YggDrasill.core.diffusion_pipeline import DiffusionPipelineInput, ForwardDiffusionInput\n",
    "from YggDrasill.pipelines.text_encoder_pipeline import TextEncoderPipelineInput\n",
    "from YggDrasill.stable_diffusion_pipeline import StableDiffusionPipeline, StableDiffusionPipelineInput\n",
    "\n",
    "pipeline = StableDiffusionPipeline()\n",
    "\n",
    "input = StableDiffusionPipelineInput(\n",
    "    # diffusion_input = DiffusionPipelineInput(\n",
    "    #     forward_input = ForwardDiffusionInput(\n",
    "            \n",
    "    #     ),\n",
    "    #     width = None,\n",
    "    #     height = None,\n",
    "    #     image = None,\n",
    "    #     generator = None,\n",
    "    #     mask_image = None,\n",
    "    # ),\n",
    "    diffusion_input = DiffusionPipelineInput(),\n",
    "    te_input = TextEncoderPipelineInput(\n",
    "        prompt=[\n",
    "            \"hello\",\n",
    "            \"world\"\n",
    "        ],  \n",
    "        prompt_2=[\n",
    "            \"cat\",\n",
    "            \"dog\",\n",
    "        ],\n",
    "        negative_prompt=[\n",
    "            \"\",\n",
    "            \"\"\n",
    "        ],\n",
    "        negative_prompt_2=[\n",
    "            \"\",\n",
    "            \"\"\n",
    "        ],\n",
    "        clip_skip=2,\n",
    "    ),\n",
    "    guidance_scale = 5,\n",
    "    num_images_per_prompt = 1,\n",
    ")"
   ]
  },
  {
   "cell_type": "code",
   "execution_count": 4,
   "metadata": {},
   "outputs": [
    {
     "name": "stdout",
     "output_type": "stream",
     "text": [
      "StableDiffusionPipeline --->\n",
      "TextEncoderPipeline --->\n",
      "CLIPTextEncoderPipeline --->\n",
      "StableDiffusionModel --->\n"
     ]
    }
   ],
   "source": [
    "pipeline(sd, **input)"
   ]
  },
  {
   "cell_type": "code",
   "execution_count": null,
   "metadata": {},
   "outputs": [],
   "source": []
  },
  {
   "cell_type": "code",
   "execution_count": null,
   "metadata": {},
   "outputs": [],
   "source": []
  },
  {
   "cell_type": "code",
   "execution_count": null,
   "metadata": {},
   "outputs": [],
   "source": []
  }
 ],
 "metadata": {
  "kernelspec": {
   "display_name": ".venv",
   "language": "python",
   "name": "python3"
  },
  "language_info": {
   "codemirror_mode": {
    "name": "ipython",
    "version": 3
   },
   "file_extension": ".py",
   "mimetype": "text/x-python",
   "name": "python",
   "nbconvert_exporter": "python",
   "pygments_lexer": "ipython3",
   "version": "3.10.12"
  }
 },
 "nbformat": 4,
 "nbformat_minor": 2
}

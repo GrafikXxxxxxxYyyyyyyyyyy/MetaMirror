{
 "cells": [
  {
   "cell_type": "markdown",
   "metadata": {},
   "source": [
    "### Test StableDiffusion"
   ]
  },
  {
   "cell_type": "markdown",
   "metadata": {},
   "source": [
    "Создадим специальный класс ModelKey для хранения параметров инициализации любой модели"
   ]
  },
  {
   "cell_type": "code",
   "execution_count": 5,
   "metadata": {},
   "outputs": [],
   "source": [
    "import torch\n",
    "\n",
    "from dataclasses import dataclass\n",
    "from typing import Optional, Union\n",
    "from diffusers.utils import BaseOutput\n",
    "\n",
    "@dataclass\n",
    "class ModelKey(BaseOutput):\n",
    "    author: str = \"GrafikXxxxxxxYyyyyyyyyyy\"\n",
    "    model_path: str = \"GrafikXxxxxxxYyyyyyyyyyy/sdxl_Juggernaut\"\n",
    "    model_type: str = \"sdxl\"\n",
    "    device: str = \"cuda\"\n",
    "    dtype: torch.dtype = torch.float16\n",
    "    scheduler_name: Optional[str] = \"euler_a\""
   ]
  },
  {
   "cell_type": "code",
   "execution_count": 2,
   "metadata": {},
   "outputs": [
    {
     "name": "stdout",
     "output_type": "stream",
     "text": [
      "NoisePredictor model has successfully loaded from 'GrafikXxxxxxxYyyyyyyyyyy/sdxl_Juggernaut' checkpoint!\n",
      "Scheduler has successfully changed to 'euler_a'\n",
      "VAE model has successfully loaded from 'GrafikXxxxxxxYyyyyyyyyyy/sdxl_Juggernaut' checkpoint!\n",
      "TextEncoder model has successfully loaded from 'GrafikXxxxxxxYyyyyyyyyyy/sdxl_Juggernaut' checkpoint!\n"
     ]
    }
   ],
   "source": [
    "from YggDrasill.stable_diffusion_model import StableDiffusionModel\n",
    "\n",
    "sd = StableDiffusionModel(**ModelKey())"
   ]
  },
  {
   "cell_type": "code",
   "execution_count": 3,
   "metadata": {},
   "outputs": [],
   "source": [
    "from YggDrasill.core.diffusion_pipeline import DiffusionPipelineInput, ForwardDiffusionInput\n",
    "from YggDrasill.pipelines.text_encoder_pipeline import TextEncoderPipelineInput\n",
    "from YggDrasill.stable_diffusion_pipeline import StableDiffusionPipeline, StableDiffusionPipelineInput\n",
    "\n",
    "pipeline = StableDiffusionPipeline()\n",
    "\n",
    "input = StableDiffusionPipelineInput(\n",
    "    # diffusion_input = DiffusionPipelineInput(\n",
    "    #     forward_input = ForwardDiffusionInput(\n",
    "            \n",
    "    #     ),\n",
    "    #     width = None,\n",
    "    #     height = None,\n",
    "    #     image = None,\n",
    "    #     generator = None,\n",
    "    #     mask_image = None,\n",
    "    # ),\n",
    "    diffusion_input = DiffusionPipelineInput(),\n",
    "    te_input = TextEncoderPipelineInput(\n",
    "        prompt=[\n",
    "            \"hello\",\n",
    "            \"world\"\n",
    "        ],  \n",
    "        prompt_2=[\n",
    "            \"cat\",\n",
    "            \"dog\",\n",
    "        ],\n",
    "        negative_prompt=[\n",
    "            \"\",\n",
    "            \"\"\n",
    "        ],\n",
    "        negative_prompt_2=[\n",
    "            \"\",\n",
    "            \"\"\n",
    "        ],\n",
    "        clip_skip=2,\n",
    "    ),\n",
    "    guidance_scale = 5,\n",
    "    num_images_per_prompt = 1,\n",
    ")"
   ]
  },
  {
   "cell_type": "code",
   "execution_count": 4,
   "metadata": {},
   "outputs": [
    {
     "name": "stdout",
     "output_type": "stream",
     "text": [
      "StableDiffusionPipeline --->\n",
      "TextEncoderPipeline --->\n",
      "CLIPTextEncoderPipeline --->\n",
      "StableDiffusionModel --->\n"
     ]
    }
   ],
   "source": [
    "pipeline(sd, **input)"
   ]
  },
  {
   "cell_type": "code",
   "execution_count": null,
   "metadata": {},
   "outputs": [],
   "source": []
  },
  {
   "cell_type": "code",
   "execution_count": null,
   "metadata": {},
   "outputs": [],
   "source": []
  },
  {
   "cell_type": "code",
   "execution_count": null,
   "metadata": {},
   "outputs": [],
   "source": []
  }
 ],
 "metadata": {
  "kernelspec": {
   "display_name": ".venv",
   "language": "python",
   "name": "python3"
  },
  "language_info": {
   "codemirror_mode": {
    "name": "ipython",
    "version": 3
   },
   "file_extension": ".py",
   "mimetype": "text/x-python",
   "name": "python",
   "nbconvert_exporter": "python",
   "pygments_lexer": "ipython3",
   "version": "3.10.12"
  }
 },
 "nbformat": 4,
 "nbformat_minor": 2
}
